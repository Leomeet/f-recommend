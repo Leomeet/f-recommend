{
 "cells": [
  {
   "cell_type": "code",
   "execution_count": 1,
   "id": "initial_id",
   "metadata": {
    "collapsed": true,
    "ExecuteTime": {
     "end_time": "2023-10-26T18:13:16.542558949Z",
     "start_time": "2023-10-26T18:12:56.732494243Z"
    }
   },
   "outputs": [
    {
     "name": "stderr",
     "output_type": "stream",
     "text": [
      "/home/meet/anaconda3/envs/f-recommend/lib/python3.10/site-packages/pinecone/index.py:4: TqdmExperimentalWarning: Using `tqdm.autonotebook.tqdm` in notebook mode. Use `tqdm.tqdm` instead to force console mode (e.g. in jupyter console)\n",
      "  from tqdm.autonotebook import tqdm\n"
     ]
    },
    {
     "name": "stdout",
     "output_type": "stream",
     "text": [
      "/home/meet/Projects/f-recommend/.env\n"
     ]
    },
    {
     "name": "stderr",
     "output_type": "stream",
     "text": [
      "/home/meet/anaconda3/envs/f-recommend/lib/python3.10/site-packages/langchain/vectorstores/pinecone.py:59: UserWarning: Passing in `embedding` as a Callable is deprecated. Please pass in an Embeddings object instead.\n",
      "  warnings.warn(\n",
      "/tmp/ipykernel_9932/890880068.py:8: FutureWarning: DataFrame.applymap has been deprecated. Use DataFrame.map instead.\n",
      "  data_frame = data_frame.applymap(str)\n"
     ]
    },
    {
     "data": {
      "text/plain": "      id gender masterCategory subCategory  articleType baseColour  season  \\\n0  15970    Men        Apparel     Topwear       Shirts  Navy Blue    Fall   \n1  39386    Men        Apparel  Bottomwear        Jeans       Blue  Summer   \n2  59263  Women    Accessories     Watches      Watches     Silver  Winter   \n3  21379    Men        Apparel  Bottomwear  Track Pants      Black    Fall   \n4  53759    Men        Apparel     Topwear      Tshirts       Grey  Summer   \n5   1855    Men        Apparel     Topwear      Tshirts       Grey  Summer   \n6  30805    Men        Apparel     Topwear       Shirts      Green  Summer   \n7  26960  Women        Apparel     Topwear       Shirts     Purple  Summer   \n8  29114    Men    Accessories       Socks        Socks  Navy Blue  Summer   \n9  30039    Men    Accessories     Watches      Watches      Black  Winter   \n\n     year   usage                             productDisplayName  \\\n0  2011.0  Casual               Turtle Check Men Navy Blue Shirt   \n1  2012.0  Casual             Peter England Men Party Blue Jeans   \n2  2016.0  Casual                       Titan Women Silver Watch   \n3  2011.0  Casual  Manchester United Men Solid Black Track Pants   \n4  2012.0  Casual                          Puma Men Grey T-shirt   \n5  2011.0  Casual           Inkfruit Mens Chain Reaction T-shirt   \n6  2012.0  Ethnic               Fabindia Men Striped Green Shirt   \n7  2012.0  Casual                  Jealous 21 Women Purple Shirt   \n8  2012.0  Casual                       Puma Men Pack of 3 Socks   \n9  2016.0  Casual                         Skagen Men Black Watch   \n\n                                            metadata  \\\n0  {\"id\":\"15970\",\"gender\":\"Men\",\"masterCategory\":...   \n1  {\"id\":\"39386\",\"gender\":\"Men\",\"masterCategory\":...   \n2  {\"id\":\"59263\",\"gender\":\"Women\",\"masterCategory...   \n3  {\"id\":\"21379\",\"gender\":\"Men\",\"masterCategory\":...   \n4  {\"id\":\"53759\",\"gender\":\"Men\",\"masterCategory\":...   \n5  {\"id\":\"1855\",\"gender\":\"Men\",\"masterCategory\":\"...   \n6  {\"id\":\"30805\",\"gender\":\"Men\",\"masterCategory\":...   \n7  {\"id\":\"26960\",\"gender\":\"Women\",\"masterCategory...   \n8  {\"id\":\"29114\",\"gender\":\"Men\",\"masterCategory\":...   \n9  {\"id\":\"30039\",\"gender\":\"Men\",\"masterCategory\":...   \n\n                                        text_content  \n0  Men :: Apparel :: Topwear :: Shirts :: Navy Bl...  \n1  Men :: Apparel :: Bottomwear :: Jeans :: Blue ...  \n2  Women :: Accessories :: Watches :: Watches :: ...  \n3  Men :: Apparel :: Bottomwear :: Track Pants ::...  \n4  Men :: Apparel :: Topwear :: Tshirts :: Grey :...  \n5  Men :: Apparel :: Topwear :: Tshirts :: Grey :...  \n6  Men :: Apparel :: Topwear :: Shirts :: Green :...  \n7  Women :: Apparel :: Topwear :: Shirts :: Purpl...  \n8  Men :: Accessories :: Socks :: Socks :: Navy B...  \n9  Men :: Accessories :: Watches :: Watches :: Bl...  ",
      "text/html": "<div>\n<style scoped>\n    .dataframe tbody tr th:only-of-type {\n        vertical-align: middle;\n    }\n\n    .dataframe tbody tr th {\n        vertical-align: top;\n    }\n\n    .dataframe thead th {\n        text-align: right;\n    }\n</style>\n<table border=\"1\" class=\"dataframe\">\n  <thead>\n    <tr style=\"text-align: right;\">\n      <th></th>\n      <th>id</th>\n      <th>gender</th>\n      <th>masterCategory</th>\n      <th>subCategory</th>\n      <th>articleType</th>\n      <th>baseColour</th>\n      <th>season</th>\n      <th>year</th>\n      <th>usage</th>\n      <th>productDisplayName</th>\n      <th>metadata</th>\n      <th>text_content</th>\n    </tr>\n  </thead>\n  <tbody>\n    <tr>\n      <th>0</th>\n      <td>15970</td>\n      <td>Men</td>\n      <td>Apparel</td>\n      <td>Topwear</td>\n      <td>Shirts</td>\n      <td>Navy Blue</td>\n      <td>Fall</td>\n      <td>2011.0</td>\n      <td>Casual</td>\n      <td>Turtle Check Men Navy Blue Shirt</td>\n      <td>{\"id\":\"15970\",\"gender\":\"Men\",\"masterCategory\":...</td>\n      <td>Men :: Apparel :: Topwear :: Shirts :: Navy Bl...</td>\n    </tr>\n    <tr>\n      <th>1</th>\n      <td>39386</td>\n      <td>Men</td>\n      <td>Apparel</td>\n      <td>Bottomwear</td>\n      <td>Jeans</td>\n      <td>Blue</td>\n      <td>Summer</td>\n      <td>2012.0</td>\n      <td>Casual</td>\n      <td>Peter England Men Party Blue Jeans</td>\n      <td>{\"id\":\"39386\",\"gender\":\"Men\",\"masterCategory\":...</td>\n      <td>Men :: Apparel :: Bottomwear :: Jeans :: Blue ...</td>\n    </tr>\n    <tr>\n      <th>2</th>\n      <td>59263</td>\n      <td>Women</td>\n      <td>Accessories</td>\n      <td>Watches</td>\n      <td>Watches</td>\n      <td>Silver</td>\n      <td>Winter</td>\n      <td>2016.0</td>\n      <td>Casual</td>\n      <td>Titan Women Silver Watch</td>\n      <td>{\"id\":\"59263\",\"gender\":\"Women\",\"masterCategory...</td>\n      <td>Women :: Accessories :: Watches :: Watches :: ...</td>\n    </tr>\n    <tr>\n      <th>3</th>\n      <td>21379</td>\n      <td>Men</td>\n      <td>Apparel</td>\n      <td>Bottomwear</td>\n      <td>Track Pants</td>\n      <td>Black</td>\n      <td>Fall</td>\n      <td>2011.0</td>\n      <td>Casual</td>\n      <td>Manchester United Men Solid Black Track Pants</td>\n      <td>{\"id\":\"21379\",\"gender\":\"Men\",\"masterCategory\":...</td>\n      <td>Men :: Apparel :: Bottomwear :: Track Pants ::...</td>\n    </tr>\n    <tr>\n      <th>4</th>\n      <td>53759</td>\n      <td>Men</td>\n      <td>Apparel</td>\n      <td>Topwear</td>\n      <td>Tshirts</td>\n      <td>Grey</td>\n      <td>Summer</td>\n      <td>2012.0</td>\n      <td>Casual</td>\n      <td>Puma Men Grey T-shirt</td>\n      <td>{\"id\":\"53759\",\"gender\":\"Men\",\"masterCategory\":...</td>\n      <td>Men :: Apparel :: Topwear :: Tshirts :: Grey :...</td>\n    </tr>\n    <tr>\n      <th>5</th>\n      <td>1855</td>\n      <td>Men</td>\n      <td>Apparel</td>\n      <td>Topwear</td>\n      <td>Tshirts</td>\n      <td>Grey</td>\n      <td>Summer</td>\n      <td>2011.0</td>\n      <td>Casual</td>\n      <td>Inkfruit Mens Chain Reaction T-shirt</td>\n      <td>{\"id\":\"1855\",\"gender\":\"Men\",\"masterCategory\":\"...</td>\n      <td>Men :: Apparel :: Topwear :: Tshirts :: Grey :...</td>\n    </tr>\n    <tr>\n      <th>6</th>\n      <td>30805</td>\n      <td>Men</td>\n      <td>Apparel</td>\n      <td>Topwear</td>\n      <td>Shirts</td>\n      <td>Green</td>\n      <td>Summer</td>\n      <td>2012.0</td>\n      <td>Ethnic</td>\n      <td>Fabindia Men Striped Green Shirt</td>\n      <td>{\"id\":\"30805\",\"gender\":\"Men\",\"masterCategory\":...</td>\n      <td>Men :: Apparel :: Topwear :: Shirts :: Green :...</td>\n    </tr>\n    <tr>\n      <th>7</th>\n      <td>26960</td>\n      <td>Women</td>\n      <td>Apparel</td>\n      <td>Topwear</td>\n      <td>Shirts</td>\n      <td>Purple</td>\n      <td>Summer</td>\n      <td>2012.0</td>\n      <td>Casual</td>\n      <td>Jealous 21 Women Purple Shirt</td>\n      <td>{\"id\":\"26960\",\"gender\":\"Women\",\"masterCategory...</td>\n      <td>Women :: Apparel :: Topwear :: Shirts :: Purpl...</td>\n    </tr>\n    <tr>\n      <th>8</th>\n      <td>29114</td>\n      <td>Men</td>\n      <td>Accessories</td>\n      <td>Socks</td>\n      <td>Socks</td>\n      <td>Navy Blue</td>\n      <td>Summer</td>\n      <td>2012.0</td>\n      <td>Casual</td>\n      <td>Puma Men Pack of 3 Socks</td>\n      <td>{\"id\":\"29114\",\"gender\":\"Men\",\"masterCategory\":...</td>\n      <td>Men :: Accessories :: Socks :: Socks :: Navy B...</td>\n    </tr>\n    <tr>\n      <th>9</th>\n      <td>30039</td>\n      <td>Men</td>\n      <td>Accessories</td>\n      <td>Watches</td>\n      <td>Watches</td>\n      <td>Black</td>\n      <td>Winter</td>\n      <td>2016.0</td>\n      <td>Casual</td>\n      <td>Skagen Men Black Watch</td>\n      <td>{\"id\":\"30039\",\"gender\":\"Men\",\"masterCategory\":...</td>\n      <td>Men :: Accessories :: Watches :: Watches :: Bl...</td>\n    </tr>\n  </tbody>\n</table>\n</div>"
     },
     "execution_count": 1,
     "metadata": {},
     "output_type": "execute_result"
    }
   ],
   "source": [
    "import pandas as pd\n",
    "from vectordb.pinecone import CustomPinecone\n",
    "\n",
    "\n",
    "formatting_columns = [\"gender\",\"masterCategory\",\"subCategory\",\"articleType\",\"baseColour\",\"season\",\"year\",\"usage\",\"productDisplayName\"]\n",
    "data_frame = pd.read_csv(\"styles.csv\", on_bad_lines='skip')\n",
    "data_frame = data_frame.head(10)\n",
    "data_frame = data_frame.applymap(str)\n",
    "\n",
    "data_frame['metadata'] = data_frame.apply(lambda row: row.to_json(), axis=1)\n",
    "data_frame['text_content'] = data_frame.apply(lambda row: ' :: '.join(map(str, row[formatting_columns])), axis=1)\n",
    "data_frame\n"
   ]
  },
  {
   "cell_type": "code",
   "execution_count": 6,
   "id": "80eab20eeba3802d",
   "metadata": {
    "ExecuteTime": {
     "end_time": "2023-10-18T21:05:55.231295174Z",
     "start_time": "2023-10-18T21:05:55.188609902Z"
    },
    "collapsed": false
   },
   "outputs": [
    {
     "data": {
      "text/plain": [
       "[{'id': b'15970',\n",
       "  'metadata': {'id': '15970',\n",
       "   'gender': 'Men',\n",
       "   'masterCategory': 'Apparel',\n",
       "   'subCategory': 'Topwear',\n",
       "   'articleType': 'Shirts',\n",
       "   'baseColour': 'Navy Blue',\n",
       "   'season': 'Fall',\n",
       "   'year': 2011.0,\n",
       "   'usage': 'Casual',\n",
       "   'productDisplayName': 'Turtle Check Men Navy Blue Shirt'},\n",
       "  'text_content': 'Men :: Apparel :: Topwear :: Shirts :: Navy Blue :: Fall :: 2011.0 :: Casual :: Turtle Check Men Navy Blue Shirt'},\n",
       " {'id': b'39386',\n",
       "  'metadata': {'id': '39386',\n",
       "   'gender': 'Men',\n",
       "   'masterCategory': 'Apparel',\n",
       "   'subCategory': 'Bottomwear',\n",
       "   'articleType': 'Jeans',\n",
       "   'baseColour': 'Blue',\n",
       "   'season': 'Summer',\n",
       "   'year': 2012.0,\n",
       "   'usage': 'Casual',\n",
       "   'productDisplayName': 'Peter England Men Party Blue Jeans'},\n",
       "  'text_content': 'Men :: Apparel :: Bottomwear :: Jeans :: Blue :: Summer :: 2012.0 :: Casual :: Peter England Men Party Blue Jeans'},\n",
       " {'id': b'59263',\n",
       "  'metadata': {'id': '59263',\n",
       "   'gender': 'Women',\n",
       "   'masterCategory': 'Accessories',\n",
       "   'subCategory': 'Watches',\n",
       "   'articleType': 'Watches',\n",
       "   'baseColour': 'Silver',\n",
       "   'season': 'Winter',\n",
       "   'year': 2016.0,\n",
       "   'usage': 'Casual',\n",
       "   'productDisplayName': 'Titan Women Silver Watch'},\n",
       "  'text_content': 'Women :: Accessories :: Watches :: Watches :: Silver :: Winter :: 2016.0 :: Casual :: Titan Women Silver Watch'},\n",
       " {'id': b'21379',\n",
       "  'metadata': {'id': '21379',\n",
       "   'gender': 'Men',\n",
       "   'masterCategory': 'Apparel',\n",
       "   'subCategory': 'Bottomwear',\n",
       "   'articleType': 'Track Pants',\n",
       "   'baseColour': 'Black',\n",
       "   'season': 'Fall',\n",
       "   'year': 2011.0,\n",
       "   'usage': 'Casual',\n",
       "   'productDisplayName': 'Manchester United Men Solid Black Track Pants'},\n",
       "  'text_content': 'Men :: Apparel :: Bottomwear :: Track Pants :: Black :: Fall :: 2011.0 :: Casual :: Manchester United Men Solid Black Track Pants'},\n",
       " {'id': b'53759',\n",
       "  'metadata': {'id': '53759',\n",
       "   'gender': 'Men',\n",
       "   'masterCategory': 'Apparel',\n",
       "   'subCategory': 'Topwear',\n",
       "   'articleType': 'Tshirts',\n",
       "   'baseColour': 'Grey',\n",
       "   'season': 'Summer',\n",
       "   'year': 2012.0,\n",
       "   'usage': 'Casual',\n",
       "   'productDisplayName': 'Puma Men Grey T-shirt'},\n",
       "  'text_content': 'Men :: Apparel :: Topwear :: Tshirts :: Grey :: Summer :: 2012.0 :: Casual :: Puma Men Grey T-shirt'},\n",
       " {'id': b'1855',\n",
       "  'metadata': {'id': '1855',\n",
       "   'gender': 'Men',\n",
       "   'masterCategory': 'Apparel',\n",
       "   'subCategory': 'Topwear',\n",
       "   'articleType': 'Tshirts',\n",
       "   'baseColour': 'Grey',\n",
       "   'season': 'Summer',\n",
       "   'year': 2011.0,\n",
       "   'usage': 'Casual',\n",
       "   'productDisplayName': 'Inkfruit Mens Chain Reaction T-shirt'},\n",
       "  'text_content': 'Men :: Apparel :: Topwear :: Tshirts :: Grey :: Summer :: 2011.0 :: Casual :: Inkfruit Mens Chain Reaction T-shirt'},\n",
       " {'id': b'30805',\n",
       "  'metadata': {'id': '30805',\n",
       "   'gender': 'Men',\n",
       "   'masterCategory': 'Apparel',\n",
       "   'subCategory': 'Topwear',\n",
       "   'articleType': 'Shirts',\n",
       "   'baseColour': 'Green',\n",
       "   'season': 'Summer',\n",
       "   'year': 2012.0,\n",
       "   'usage': 'Ethnic',\n",
       "   'productDisplayName': 'Fabindia Men Striped Green Shirt'},\n",
       "  'text_content': 'Men :: Apparel :: Topwear :: Shirts :: Green :: Summer :: 2012.0 :: Ethnic :: Fabindia Men Striped Green Shirt'},\n",
       " {'id': b'26960',\n",
       "  'metadata': {'id': '26960',\n",
       "   'gender': 'Women',\n",
       "   'masterCategory': 'Apparel',\n",
       "   'subCategory': 'Topwear',\n",
       "   'articleType': 'Shirts',\n",
       "   'baseColour': 'Purple',\n",
       "   'season': 'Summer',\n",
       "   'year': 2012.0,\n",
       "   'usage': 'Casual',\n",
       "   'productDisplayName': 'Jealous 21 Women Purple Shirt'},\n",
       "  'text_content': 'Women :: Apparel :: Topwear :: Shirts :: Purple :: Summer :: 2012.0 :: Casual :: Jealous 21 Women Purple Shirt'},\n",
       " {'id': b'29114',\n",
       "  'metadata': {'id': '29114',\n",
       "   'gender': 'Men',\n",
       "   'masterCategory': 'Accessories',\n",
       "   'subCategory': 'Socks',\n",
       "   'articleType': 'Socks',\n",
       "   'baseColour': 'Navy Blue',\n",
       "   'season': 'Summer',\n",
       "   'year': 2012.0,\n",
       "   'usage': 'Casual',\n",
       "   'productDisplayName': 'Puma Men Pack of 3 Socks'},\n",
       "  'text_content': 'Men :: Accessories :: Socks :: Socks :: Navy Blue :: Summer :: 2012.0 :: Casual :: Puma Men Pack of 3 Socks'},\n",
       " {'id': b'30039',\n",
       "  'metadata': {'id': '30039',\n",
       "   'gender': 'Men',\n",
       "   'masterCategory': 'Accessories',\n",
       "   'subCategory': 'Watches',\n",
       "   'articleType': 'Watches',\n",
       "   'baseColour': 'Black',\n",
       "   'season': 'Winter',\n",
       "   'year': 2016.0,\n",
       "   'usage': 'Casual',\n",
       "   'productDisplayName': 'Skagen Men Black Watch'},\n",
       "  'text_content': 'Men :: Accessories :: Watches :: Watches :: Black :: Winter :: 2016.0 :: Casual :: Skagen Men Black Watch'}]"
      ]
     },
     "execution_count": 6,
     "metadata": {},
     "output_type": "execute_result"
    }
   ],
   "source": [
    "df = data_frame\n",
    "op_columns = [\"id\",\"metadata\",\"text_content\"]\n",
    "list_of_rows = [row[op_columns].to_dict() for _, row in df.iterrows()]\n",
    "list_of_rows"
   ]
  },
  {
   "cell_type": "raw",
   "source": [
    "# unique values from all columns"
   ],
   "metadata": {
    "collapsed": false
   },
   "id": "c694e6151e0e2568"
  },
  {
   "cell_type": "code",
   "execution_count": 6,
   "outputs": [
    {
     "name": "stdout",
     "output_type": "stream",
     "text": [
      "Unique values in gender: ['Men' 'Women' 'Boys' 'Girls' 'Unisex']\n",
      "Unique values in masterCategory: ['Apparel' 'Accessories' 'Footwear' 'Personal Care' 'Free Items'\n",
      " 'Sporting Goods' 'Home']\n",
      "Unique values in subCategory: ['Topwear' 'Bottomwear' 'Watches' 'Socks' 'Shoes' 'Belts' 'Flip Flops'\n",
      " 'Bags' 'Innerwear' 'Sandal' 'Shoe Accessories' 'Fragrance' 'Jewellery'\n",
      " 'Lips' 'Saree' 'Eyewear' 'Nails' 'Scarves' 'Dress'\n",
      " 'Loungewear and Nightwear' 'Wallets' 'Apparel Set' 'Headwear' 'Mufflers'\n",
      " 'Skin Care' 'Makeup' 'Free Gifts' 'Ties' 'Accessories' 'Skin'\n",
      " 'Beauty Accessories' 'Water Bottle' 'Eyes' 'Bath and Body' 'Gloves'\n",
      " 'Sports Accessories' 'Cufflinks' 'Sports Equipment' 'Stoles' 'Hair'\n",
      " 'Perfumes' 'Home Furnishing' 'Umbrellas' 'Wristbands' 'Vouchers']\n",
      "Unique values in articleType: ['Shirts' 'Jeans' 'Watches' 'Track Pants' 'Tshirts' 'Socks' 'Casual Shoes'\n",
      " 'Belts' 'Flip Flops' 'Handbags' 'Tops' 'Bra' 'Sandals' 'Shoe Accessories'\n",
      " 'Sweatshirts' 'Deodorant' 'Formal Shoes' 'Bracelet' 'Lipstick' 'Flats'\n",
      " 'Kurtas' 'Waistcoat' 'Sports Shoes' 'Shorts' 'Briefs' 'Sarees'\n",
      " 'Perfume and Body Mist' 'Heels' 'Sunglasses' 'Innerwear Vests' 'Pendant'\n",
      " 'Nail Polish' 'Laptop Bag' 'Scarves' 'Rain Jacket' 'Dresses'\n",
      " 'Night suits' 'Skirts' 'Wallets' 'Blazers' 'Ring' 'Kurta Sets' 'Clutches'\n",
      " 'Shrug' 'Backpacks' 'Caps' 'Trousers' 'Earrings' 'Camisoles' 'Boxers'\n",
      " 'Jewellery Set' 'Dupatta' 'Capris' 'Lip Gloss' 'Bath Robe' 'Mufflers'\n",
      " 'Tunics' 'Jackets' 'Trunk' 'Lounge Pants' 'Face Wash and Cleanser'\n",
      " 'Necklace and Chains' 'Duffel Bag' 'Sports Sandals'\n",
      " 'Foundation and Primer' 'Sweaters' 'Free Gifts' 'Trolley Bag'\n",
      " 'Tracksuits' 'Swimwear' 'Shoe Laces' 'Fragrance Gift Set' 'Bangle'\n",
      " 'Nightdress' 'Ties' 'Baby Dolls' 'Leggings' 'Highlighter and Blush'\n",
      " 'Travel Accessory' 'Kurtis' 'Mobile Pouch' 'Messenger Bag' 'Lip Care'\n",
      " 'Face Moisturisers' 'Compact' 'Eye Cream' 'Accessory Gift Set'\n",
      " 'Beauty Accessory' 'Jumpsuit' 'Kajal and Eyeliner' 'Water Bottle'\n",
      " 'Suspenders' 'Lip Liner' 'Robe' 'Salwar and Dupatta' 'Patiala'\n",
      " 'Stockings' 'Eyeshadow' 'Headband' 'Tights' 'Nail Essentials' 'Churidar'\n",
      " 'Lounge Tshirts' 'Face Scrub and Exfoliator' 'Lounge Shorts' 'Gloves'\n",
      " 'Mask and Peel' 'Wristbands' 'Tablet Sleeve' 'Ties and Cufflinks'\n",
      " 'Footballs' 'Stoles' 'Shapewear' 'Nehru Jackets' 'Salwar' 'Cufflinks'\n",
      " 'Jeggings' 'Hair Colour' 'Concealer' 'Rompers' 'Body Lotion' 'Sunscreen'\n",
      " 'Booties' 'Waist Pouch' 'Hair Accessory' 'Rucksacks' 'Basketballs'\n",
      " 'Lehenga Choli' 'Clothing Set' 'Mascara' 'Toner' 'Cushion Covers'\n",
      " 'Key chain' 'Makeup Remover' 'Lip Plumper' 'Umbrellas'\n",
      " 'Face Serum and Gel' 'Hat' 'Mens Grooming Kit' 'Rain Trousers'\n",
      " 'Body Wash and Scrub' 'Suits' 'Ipad']\n",
      "Unique values in baseColour: ['Navy Blue' 'Blue' 'Silver' 'Black' 'Grey' 'Green' 'Purple' 'White'\n",
      " 'Beige' 'Brown' 'Bronze' 'Teal' 'Copper' 'Pink' 'Off White' 'Maroon'\n",
      " 'Red' 'Khaki' 'Orange' 'Coffee Brown' 'Yellow' 'Charcoal' 'Gold' 'Steel'\n",
      " 'Tan' 'Multi' 'Magenta' 'Lavender' 'Sea Green' 'Cream' 'Peach' 'Olive'\n",
      " 'Skin' 'Burgundy' 'Grey Melange' 'Rust' 'Rose' 'Lime Green' 'Mauve'\n",
      " 'Turquoise Blue' 'Metallic' 'Mustard' 'Taupe' 'Nude' 'Mushroom Brown' nan\n",
      " 'Fluorescent Green']\n",
      "Unique values in season: ['Fall' 'Summer' 'Winter' 'Spring' nan]\n",
      "Unique values in year: [2011. 2012. 2016. 2017. 2015. 2014. 2010. 2013. 2018. 2019. 2007. 2009.\n",
      " 2008.   nan]\n",
      "Unique values in usage: ['Casual' 'Ethnic' 'Formal' 'Sports' nan 'Smart Casual' 'Travel' 'Party'\n",
      " 'Home']\n",
      "Unique values in productDisplayName: ['Turtle Check Men Navy Blue Shirt' 'Peter England Men Party Blue Jeans'\n",
      " 'Titan Women Silver Watch' ... \"Lotto Men's Soccer Track Flip Flop\"\n",
      " 'Puma Men Graphic Stellar Blue Tshirt'\n",
      " 'Fossil Women Pink Dial Chronograph Watch ES3050']\n"
     ]
    }
   ],
   "source": [
    "formatting_columns = [\"gender\",\"masterCategory\",\"subCategory\",\"articleType\",\"baseColour\",\"season\",\"year\",\"usage\",\"productDisplayName\"]\n",
    "data_frame = pd.read_csv(\"styles.csv\", on_bad_lines='skip')\n",
    "unique_values = {column: data_frame[column].unique() for column in formatting_columns}\n",
    "\n",
    "# Print the unique values for each column\n",
    "for column, values in unique_values.items():\n",
    "    print(f\"Unique values in {column}: {values}\")\n"
   ],
   "metadata": {
    "collapsed": false,
    "ExecuteTime": {
     "end_time": "2023-10-26T18:24:12.311760613Z",
     "start_time": "2023-10-26T18:24:12.147010586Z"
    }
   },
   "id": "b66c3ff252a343b1"
  },
  {
   "cell_type": "code",
   "execution_count": 12,
   "id": "5a3785d1f7469ff",
   "metadata": {
    "ExecuteTime": {
     "end_time": "2023-10-18T21:02:43.825542962Z",
     "start_time": "2023-10-18T21:02:43.815691875Z"
    },
    "collapsed": false
   },
   "outputs": [
    {
     "name": "stdout",
     "output_type": "stream",
     "text": [
      "/home/meet/Projects/f-recommend/.env\n"
     ]
    },
    {
     "data": {
      "text/plain": [
       "True"
      ]
     },
     "execution_count": 12,
     "metadata": {},
     "output_type": "execute_result"
    }
   ],
   "source": [
    "import os\n",
    "from pathlib import Path\n",
    "from dotenv import load_dotenv\n",
    "\n",
    "project_root = Path().resolve().parent\n",
    "dotenv_path = os.path.join(project_root, \".env\")\n",
    "print(dotenv_path)\n",
    "load_dotenv(dotenv_path)"
   ]
  },
  {
   "cell_type": "code",
   "execution_count": 14,
   "id": "2552575571130592",
   "metadata": {
    "ExecuteTime": {
     "end_time": "2023-10-18T21:04:57.477750798Z",
     "start_time": "2023-10-18T21:04:56.297314320Z"
    },
    "collapsed": false
   },
   "outputs": [
    {
     "ename": "AttributeError",
     "evalue": "module 'requests' has no attribute 'exceptions'",
     "output_type": "error",
     "traceback": [
      "\u001B[0;31m---------------------------------------------------------------------------\u001B[0m",
      "\u001B[0;31mHTTPError\u001B[0m                                 Traceback (most recent call last)",
      "File \u001B[0;32m~/anaconda3/envs/f-recommend/lib/python3.10/site-packages/pinecone/config.py:98\u001B[0m, in \u001B[0;36m_CONFIG.reset\u001B[0;34m(self, config_file, **kwargs)\u001B[0m\n\u001B[1;32m     97\u001B[0m \u001B[38;5;28;01mtry\u001B[39;00m:\n\u001B[0;32m---> 98\u001B[0m     whoami_response \u001B[38;5;241m=\u001B[39m \u001B[43maction_api\u001B[49m\u001B[38;5;241;43m.\u001B[39;49m\u001B[43mwhoami\u001B[49m\u001B[43m(\u001B[49m\u001B[43m)\u001B[49m\n\u001B[1;32m     99\u001B[0m \u001B[38;5;28;01mexcept\u001B[39;00m requests\u001B[38;5;241m.\u001B[39mexceptions\u001B[38;5;241m.\u001B[39mRequestException:\n\u001B[1;32m    100\u001B[0m     \u001B[38;5;66;03m# proceed with default values; reset() may be called later w/ correct values\u001B[39;00m\n",
      "File \u001B[0;32m~/anaconda3/envs/f-recommend/lib/python3.10/site-packages/pinecone/core/api_action.py:30\u001B[0m, in \u001B[0;36mActionAPI.whoami\u001B[0;34m(self)\u001B[0m\n\u001B[1;32m     29\u001B[0m \u001B[38;5;250m\u001B[39m\u001B[38;5;124;03m\"\"\"Returns user information.\"\"\"\u001B[39;00m\n\u001B[0;32m---> 30\u001B[0m response \u001B[38;5;241m=\u001B[39m \u001B[38;5;28;43mself\u001B[39;49m\u001B[38;5;241;43m.\u001B[39;49m\u001B[43mget\u001B[49m\u001B[43m(\u001B[49m\u001B[38;5;124;43m\"\u001B[39;49m\u001B[38;5;124;43m/actions/whoami\u001B[39;49m\u001B[38;5;124;43m\"\u001B[39;49m\u001B[43m)\u001B[49m\n\u001B[1;32m     31\u001B[0m \u001B[38;5;28;01mreturn\u001B[39;00m WhoAmIResponse(\n\u001B[1;32m     32\u001B[0m     username\u001B[38;5;241m=\u001B[39mresponse\u001B[38;5;241m.\u001B[39mget(\u001B[38;5;124m\"\u001B[39m\u001B[38;5;124muser_name\u001B[39m\u001B[38;5;124m\"\u001B[39m, \u001B[38;5;124m\"\u001B[39m\u001B[38;5;124mUNDEFINED\u001B[39m\u001B[38;5;124m\"\u001B[39m),\n\u001B[1;32m     33\u001B[0m     projectname\u001B[38;5;241m=\u001B[39mresponse\u001B[38;5;241m.\u001B[39mget(\u001B[38;5;124m\"\u001B[39m\u001B[38;5;124mproject_name\u001B[39m\u001B[38;5;124m\"\u001B[39m, \u001B[38;5;124m\"\u001B[39m\u001B[38;5;124mUNDEFINED\u001B[39m\u001B[38;5;124m\"\u001B[39m),\n\u001B[1;32m     34\u001B[0m     user_label\u001B[38;5;241m=\u001B[39mresponse\u001B[38;5;241m.\u001B[39mget(\u001B[38;5;124m\"\u001B[39m\u001B[38;5;124muser_label\u001B[39m\u001B[38;5;124m\"\u001B[39m, \u001B[38;5;124m\"\u001B[39m\u001B[38;5;124mUNDEFINED\u001B[39m\u001B[38;5;124m\"\u001B[39m),\n\u001B[1;32m     35\u001B[0m )\n",
      "File \u001B[0;32m~/anaconda3/envs/f-recommend/lib/python3.10/site-packages/pinecone/core/api_base.py:30\u001B[0m, in \u001B[0;36mBaseAPI.get\u001B[0;34m(self, url, params)\u001B[0m\n\u001B[1;32m     29\u001B[0m \u001B[38;5;28;01mdef\u001B[39;00m \u001B[38;5;21mget\u001B[39m(\u001B[38;5;28mself\u001B[39m, url: \u001B[38;5;28mstr\u001B[39m, params: \u001B[38;5;28mdict\u001B[39m \u001B[38;5;241m=\u001B[39m \u001B[38;5;28;01mNone\u001B[39;00m):\n\u001B[0;32m---> 30\u001B[0m     \u001B[38;5;28;01mreturn\u001B[39;00m \u001B[38;5;28;43mself\u001B[39;49m\u001B[38;5;241;43m.\u001B[39;49m\u001B[43m_send_request\u001B[49m\u001B[43m(\u001B[49m\u001B[43mrequests\u001B[49m\u001B[38;5;241;43m.\u001B[39;49m\u001B[43mget\u001B[49m\u001B[43m,\u001B[49m\u001B[43m \u001B[49m\u001B[43murl\u001B[49m\u001B[43m,\u001B[49m\u001B[43m \u001B[49m\u001B[43mparams\u001B[49m\u001B[38;5;241;43m=\u001B[39;49m\u001B[43mparams\u001B[49m\u001B[43m)\u001B[49m\n",
      "File \u001B[0;32m~/anaconda3/envs/f-recommend/lib/python3.10/site-packages/pinecone/core/api_base.py:26\u001B[0m, in \u001B[0;36mBaseAPI._send_request\u001B[0;34m(self, request_handler, url, **kwargs)\u001B[0m\n\u001B[1;32m     25\u001B[0m     e\u001B[38;5;241m.\u001B[39margs \u001B[38;5;241m=\u001B[39m e\u001B[38;5;241m.\u001B[39margs \u001B[38;5;241m+\u001B[39m (response\u001B[38;5;241m.\u001B[39mtext,)\n\u001B[0;32m---> 26\u001B[0m     \u001B[38;5;28;01mraise\u001B[39;00m e\n\u001B[1;32m     27\u001B[0m \u001B[38;5;28;01mreturn\u001B[39;00m response\u001B[38;5;241m.\u001B[39mjson()\n",
      "File \u001B[0;32m~/anaconda3/envs/f-recommend/lib/python3.10/site-packages/pinecone/core/api_base.py:23\u001B[0m, in \u001B[0;36mBaseAPI._send_request\u001B[0;34m(self, request_handler, url, **kwargs)\u001B[0m\n\u001B[1;32m     22\u001B[0m \u001B[38;5;28;01mtry\u001B[39;00m:\n\u001B[0;32m---> 23\u001B[0m     \u001B[43mresponse\u001B[49m\u001B[38;5;241;43m.\u001B[39;49m\u001B[43mraise_for_status\u001B[49m\u001B[43m(\u001B[49m\u001B[43m)\u001B[49m\n\u001B[1;32m     24\u001B[0m \u001B[38;5;28;01mexcept\u001B[39;00m HTTPError \u001B[38;5;28;01mas\u001B[39;00m e:\n",
      "File \u001B[0;32m~/anaconda3/envs/f-recommend/lib/python3.10/site-packages/requests/models.py:1021\u001B[0m, in \u001B[0;36mResponse.raise_for_status\u001B[0;34m(self)\u001B[0m\n\u001B[1;32m   1020\u001B[0m \u001B[38;5;28;01mif\u001B[39;00m http_error_msg:\n\u001B[0;32m-> 1021\u001B[0m     \u001B[38;5;28;01mraise\u001B[39;00m HTTPError(http_error_msg, response\u001B[38;5;241m=\u001B[39m\u001B[38;5;28mself\u001B[39m)\n",
      "\u001B[0;31mHTTPError\u001B[0m: ('401 Client Error: Unauthorized for url: https://controller.us-west1-gcp.pinecone.io/actions/whoami', 'API key is missing or invalid for the environment \"us-west1-gcp\". Check that the correct environment is specified.')",
      "\nDuring handling of the above exception, another exception occurred:\n",
      "\u001B[0;31mAttributeError\u001B[0m                            Traceback (most recent call last)",
      "Cell \u001B[0;32mIn[14], line 1\u001B[0m\n\u001B[0;32m----> 1\u001B[0m \u001B[38;5;28;01mfrom\u001B[39;00m \u001B[38;5;21;01mvectordb\u001B[39;00m\u001B[38;5;21;01m.\u001B[39;00m\u001B[38;5;21;01mpinecone\u001B[39;00m \u001B[38;5;28;01mimport\u001B[39;00m CustomPinecone\n\u001B[1;32m      3\u001B[0m CustomPinecone\u001B[38;5;241m.\u001B[39mupsert_documents(list_of_rows)\n",
      "File \u001B[0;32m~/Projects/f-recommend/vectordb/pinecone.py:1\u001B[0m\n\u001B[0;32m----> 1\u001B[0m \u001B[38;5;28;01mimport\u001B[39;00m \u001B[38;5;21;01mpinecone\u001B[39;00m\n\u001B[1;32m      2\u001B[0m \u001B[38;5;28;01mfrom\u001B[39;00m \u001B[38;5;21;01mpinecone\u001B[39;00m\u001B[38;5;21;01m.\u001B[39;00m\u001B[38;5;21;01mexceptions\u001B[39;00m \u001B[38;5;28;01mimport\u001B[39;00m PineconeException\n\u001B[1;32m      4\u001B[0m \u001B[38;5;28;01mfrom\u001B[39;00m \u001B[38;5;21;01mtyping\u001B[39;00m \u001B[38;5;28;01mimport\u001B[39;00m List, Optional, Union\n",
      "File \u001B[0;32m~/anaconda3/envs/f-recommend/lib/python3.10/site-packages/pinecone/__init__.py:5\u001B[0m\n\u001B[1;32m      1\u001B[0m \u001B[38;5;66;03m#\u001B[39;00m\n\u001B[1;32m      2\u001B[0m \u001B[38;5;66;03m# Copyright (c) 2020-2021 Pinecone Systems Inc. All right reserved.\u001B[39;00m\n\u001B[1;32m      3\u001B[0m \u001B[38;5;66;03m#\u001B[39;00m\n\u001B[1;32m      4\u001B[0m \u001B[38;5;28;01mfrom\u001B[39;00m \u001B[38;5;21;01mpinecone\u001B[39;00m\u001B[38;5;21;01m.\u001B[39;00m\u001B[38;5;21;01mcore\u001B[39;00m\u001B[38;5;21;01m.\u001B[39;00m\u001B[38;5;21;01mutils\u001B[39;00m\u001B[38;5;21;01m.\u001B[39;00m\u001B[38;5;21;01mconstants\u001B[39;00m \u001B[38;5;28;01mimport\u001B[39;00m CLIENT_VERSION \u001B[38;5;28;01mas\u001B[39;00m __version__\n\u001B[0;32m----> 5\u001B[0m \u001B[38;5;28;01mfrom\u001B[39;00m \u001B[38;5;21;01m.\u001B[39;00m\u001B[38;5;21;01mconfig\u001B[39;00m \u001B[38;5;28;01mimport\u001B[39;00m \u001B[38;5;241m*\u001B[39m\n\u001B[1;32m      6\u001B[0m \u001B[38;5;28;01mfrom\u001B[39;00m \u001B[38;5;21;01m.\u001B[39;00m\u001B[38;5;21;01mexceptions\u001B[39;00m \u001B[38;5;28;01mimport\u001B[39;00m \u001B[38;5;241m*\u001B[39m\n\u001B[1;32m      7\u001B[0m \u001B[38;5;28;01mfrom\u001B[39;00m \u001B[38;5;21;01m.\u001B[39;00m\u001B[38;5;21;01minfo\u001B[39;00m \u001B[38;5;28;01mimport\u001B[39;00m \u001B[38;5;241m*\u001B[39m\n",
      "File \u001B[0;32m~/anaconda3/envs/f-recommend/lib/python3.10/site-packages/pinecone/config.py:259\u001B[0m\n\u001B[1;32m    251\u001B[0m     \u001B[38;5;28;01mif\u001B[39;00m log_level:\n\u001B[1;32m    252\u001B[0m         warn_deprecated(\n\u001B[1;32m    253\u001B[0m             description\u001B[38;5;241m=\u001B[39m\u001B[38;5;124m'\u001B[39m\u001B[38;5;124mlog_level is deprecated. Use the standard logging module to manage logger \u001B[39m\u001B[38;5;124m\"\u001B[39m\u001B[38;5;124mpinecone\u001B[39m\u001B[38;5;124m\"\u001B[39m\u001B[38;5;124m instead.\u001B[39m\u001B[38;5;124m'\u001B[39m,\n\u001B[1;32m    254\u001B[0m             deprecated_in\u001B[38;5;241m=\u001B[39m\u001B[38;5;124m'\u001B[39m\u001B[38;5;124m2.0.2\u001B[39m\u001B[38;5;124m'\u001B[39m,\n\u001B[1;32m    255\u001B[0m             removal_in\u001B[38;5;241m=\u001B[39m\u001B[38;5;124m'\u001B[39m\u001B[38;5;124m3.0.0\u001B[39m\u001B[38;5;124m'\u001B[39m\n\u001B[1;32m    256\u001B[0m         )\n\u001B[0;32m--> 259\u001B[0m Config \u001B[38;5;241m=\u001B[39m \u001B[43m_CONFIG\u001B[49m\u001B[43m(\u001B[49m\u001B[43m)\u001B[49m\n\u001B[1;32m    261\u001B[0m \u001B[38;5;66;03m# Init\u001B[39;00m\n\u001B[1;32m    262\u001B[0m init()\n",
      "File \u001B[0;32m~/anaconda3/envs/f-recommend/lib/python3.10/site-packages/pinecone/config.py:52\u001B[0m, in \u001B[0;36m_CONFIG.__init__\u001B[0;34m(self)\u001B[0m\n\u001B[1;32m     51\u001B[0m \u001B[38;5;28;01mdef\u001B[39;00m \u001B[38;5;21m__init__\u001B[39m(\u001B[38;5;28mself\u001B[39m):\n\u001B[0;32m---> 52\u001B[0m     \u001B[38;5;28;43mself\u001B[39;49m\u001B[38;5;241;43m.\u001B[39;49m\u001B[43mreset\u001B[49m\u001B[43m(\u001B[49m\u001B[43m)\u001B[49m\n",
      "File \u001B[0;32m~/anaconda3/envs/f-recommend/lib/python3.10/site-packages/pinecone/config.py:99\u001B[0m, in \u001B[0;36m_CONFIG.reset\u001B[0;34m(self, config_file, **kwargs)\u001B[0m\n\u001B[1;32m     97\u001B[0m \u001B[38;5;28;01mtry\u001B[39;00m:\n\u001B[1;32m     98\u001B[0m     whoami_response \u001B[38;5;241m=\u001B[39m action_api\u001B[38;5;241m.\u001B[39mwhoami()\n\u001B[0;32m---> 99\u001B[0m \u001B[38;5;28;01mexcept\u001B[39;00m \u001B[43mrequests\u001B[49m\u001B[38;5;241;43m.\u001B[39;49m\u001B[43mexceptions\u001B[49m\u001B[38;5;241m.\u001B[39mRequestException:\n\u001B[1;32m    100\u001B[0m     \u001B[38;5;66;03m# proceed with default values; reset() may be called later w/ correct values\u001B[39;00m\n\u001B[1;32m    101\u001B[0m     whoami_response \u001B[38;5;241m=\u001B[39m WhoAmIResponse()\n\u001B[1;32m    103\u001B[0m \u001B[38;5;28;01mif\u001B[39;00m \u001B[38;5;129;01mnot\u001B[39;00m \u001B[38;5;28mself\u001B[39m\u001B[38;5;241m.\u001B[39m_config\u001B[38;5;241m.\u001B[39mproject_name:\n",
      "\u001B[0;31mAttributeError\u001B[0m: module 'requests' has no attribute 'exceptions'"
     ]
    }
   ],
   "source": [
    "\n",
    "CustomPinecone.upsert_documents(list_of_rows)"
   ]
  }
 ],
 "metadata": {
  "kernelspec": {
   "display_name": "Python 3",
   "language": "python",
   "name": "python3"
  },
  "language_info": {
   "codemirror_mode": {
    "name": "ipython",
    "version": 3
   },
   "file_extension": ".py",
   "mimetype": "text/x-python",
   "name": "python",
   "nbconvert_exporter": "python",
   "pygments_lexer": "ipython3",
   "version": "3.10.13"
  }
 },
 "nbformat": 4,
 "nbformat_minor": 5
}
